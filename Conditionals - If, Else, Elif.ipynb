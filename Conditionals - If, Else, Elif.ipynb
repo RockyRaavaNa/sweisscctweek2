{
 "cells": [
  {
   "cell_type": "markdown",
   "id": "b1f226e2",
   "metadata": {},
   "source": [
    "## Boolean - bool\n",
    "True\n",
    "\n",
    "False"
   ]
  },
  {
   "cell_type": "markdown",
   "id": "29dee2e7",
   "metadata": {},
   "source": [
    "## Comparison operators\n",
    "- Equality == (nb two ==)\n",
    "- Inequality !=\n",
    "- Less than <\n",
    "- Greater than >\n",
    "- Less than or equal <=\n",
    "- Greater than or equal >=\n"
   ]
  },
  {
   "cell_type": "code",
   "execution_count": 1,
   "id": "611b5b76",
   "metadata": {},
   "outputs": [
    {
     "data": {
      "text/plain": [
       "True"
      ]
     },
     "execution_count": 1,
     "metadata": {},
     "output_type": "execute_result"
    }
   ],
   "source": [
    "3 == 3"
   ]
  },
  {
   "cell_type": "code",
   "execution_count": 2,
   "id": "c7cd0d2c",
   "metadata": {},
   "outputs": [
    {
     "data": {
      "text/plain": [
       "False"
      ]
     },
     "execution_count": 2,
     "metadata": {},
     "output_type": "execute_result"
    }
   ],
   "source": [
    "3 == 4"
   ]
  },
  {
   "cell_type": "code",
   "execution_count": 3,
   "id": "cba16375",
   "metadata": {},
   "outputs": [
    {
     "data": {
      "text/plain": [
       "True"
      ]
     },
     "execution_count": 3,
     "metadata": {},
     "output_type": "execute_result"
    }
   ],
   "source": [
    "3 == 3.0"
   ]
  },
  {
   "cell_type": "code",
   "execution_count": 4,
   "id": "ff8a74ca",
   "metadata": {},
   "outputs": [
    {
     "data": {
      "text/plain": [
       "False"
      ]
     },
     "execution_count": 4,
     "metadata": {},
     "output_type": "execute_result"
    }
   ],
   "source": [
    "3 == \"3\""
   ]
  },
  {
   "cell_type": "code",
   "execution_count": 5,
   "id": "c196986b",
   "metadata": {},
   "outputs": [
    {
     "data": {
      "text/plain": [
       "True"
      ]
     },
     "execution_count": 5,
     "metadata": {},
     "output_type": "execute_result"
    }
   ],
   "source": [
    "3 == 3+0j"
   ]
  },
  {
   "cell_type": "code",
   "execution_count": 6,
   "id": "73359555",
   "metadata": {},
   "outputs": [
    {
     "data": {
      "text/plain": [
       "True"
      ]
     },
     "execution_count": 6,
     "metadata": {},
     "output_type": "execute_result"
    }
   ],
   "source": [
    "\"3\" == \"3\""
   ]
  },
  {
   "cell_type": "code",
   "execution_count": 7,
   "id": "7ddca170",
   "metadata": {},
   "outputs": [
    {
     "data": {
      "text/plain": [
       "True"
      ]
     },
     "execution_count": 7,
     "metadata": {},
     "output_type": "execute_result"
    }
   ],
   "source": [
    "3 != \"3\""
   ]
  },
  {
   "cell_type": "code",
   "execution_count": 8,
   "id": "3dd54a3f",
   "metadata": {},
   "outputs": [
    {
     "data": {
      "text/plain": [
       "True"
      ]
     },
     "execution_count": 8,
     "metadata": {},
     "output_type": "execute_result"
    }
   ],
   "source": [
    "3 >= 3"
   ]
  },
  {
   "cell_type": "code",
   "execution_count": 9,
   "id": "6fca1e59",
   "metadata": {},
   "outputs": [
    {
     "data": {
      "text/plain": [
       "True"
      ]
     },
     "execution_count": 9,
     "metadata": {},
     "output_type": "execute_result"
    }
   ],
   "source": [
    "3 >= 2"
   ]
  },
  {
   "cell_type": "code",
   "execution_count": 10,
   "id": "5749bdae",
   "metadata": {},
   "outputs": [
    {
     "data": {
      "text/plain": [
       "False"
      ]
     },
     "execution_count": 10,
     "metadata": {},
     "output_type": "execute_result"
    }
   ],
   "source": [
    "3 >= 4"
   ]
  },
  {
   "cell_type": "code",
   "execution_count": 11,
   "id": "428b6ad0",
   "metadata": {},
   "outputs": [
    {
     "data": {
      "text/plain": [
       "True"
      ]
     },
     "execution_count": 11,
     "metadata": {},
     "output_type": "execute_result"
    }
   ],
   "source": [
    "3 <= 4"
   ]
  },
  {
   "cell_type": "code",
   "execution_count": 12,
   "id": "b6ca4127",
   "metadata": {},
   "outputs": [
    {
     "data": {
      "text/plain": [
       "True"
      ]
     },
     "execution_count": 12,
     "metadata": {},
     "output_type": "execute_result"
    }
   ],
   "source": [
    "3 <= 3"
   ]
  },
  {
   "cell_type": "code",
   "execution_count": 13,
   "id": "06750c7b",
   "metadata": {},
   "outputs": [
    {
     "data": {
      "text/plain": [
       "False"
      ]
     },
     "execution_count": 13,
     "metadata": {},
     "output_type": "execute_result"
    }
   ],
   "source": [
    "3 <= 2"
   ]
  },
  {
   "cell_type": "code",
   "execution_count": 15,
   "id": "0d9e6742",
   "metadata": {
    "scrolled": true
   },
   "outputs": [],
   "source": [
    "#3 <= \"3\""
   ]
  },
  {
   "cell_type": "markdown",
   "id": "4dfbdeea",
   "metadata": {},
   "source": [
    "This is a mistake cell"
   ]
  },
  {
   "cell_type": "markdown",
   "id": "3a3008a0",
   "metadata": {},
   "source": [
    "## if"
   ]
  },
  {
   "cell_type": "code",
   "execution_count": 16,
   "id": "af6b2ce6",
   "metadata": {},
   "outputs": [
    {
     "name": "stdout",
     "output_type": "stream",
     "text": [
      "We have equality!!\n",
      "3 is equal to three\n",
      "This will always run\n"
     ]
    }
   ],
   "source": [
    "if 3 == 3:\n",
    "    print(\"We have equality!!\")\n",
    "    print(\"3 is equal to three\")\n",
    "print(\"This will always run\")"
   ]
  },
  {
   "cell_type": "code",
   "execution_count": 17,
   "id": "e116c934",
   "metadata": {},
   "outputs": [
    {
     "name": "stdout",
     "output_type": "stream",
     "text": [
      "This will always run\n"
     ]
    }
   ],
   "source": [
    "if 3 == 4:\n",
    "    print(\"We have equality!!\")\n",
    "    print(\"3 is equal to three\")\n",
    "print(\"This will always run\")"
   ]
  },
  {
   "cell_type": "code",
   "execution_count": 18,
   "id": "5b2a4fd8",
   "metadata": {},
   "outputs": [
    {
     "name": "stdout",
     "output_type": "stream",
     "text": [
      "We have equality!!\n",
      "3 is equal to three\n",
      "This will always run\n"
     ]
    }
   ],
   "source": [
    "# Will run\n",
    "if 3 == 3:\n",
    "    print(\"We have equality!!\")\n",
    "    print(\"3 is equal to three\")\n",
    "# Will not run    \n",
    "else:\n",
    "    print(\"These are not equal!!\")\n",
    "    print(\"Where is my three??\")\n",
    "# Will always run\n",
    "print(\"This will always run\")"
   ]
  },
  {
   "cell_type": "code",
   "execution_count": 19,
   "id": "c252b67e",
   "metadata": {},
   "outputs": [
    {
     "name": "stdout",
     "output_type": "stream",
     "text": [
      "These are not equal!!\n",
      "Where is my three??\n",
      "This will always run\n"
     ]
    }
   ],
   "source": [
    "# Will not run\n",
    "if 3 == 4:\n",
    "    print(\"We have equality!!\")\n",
    "    print(\"3 is equal to three\")\n",
    "# Will run    \n",
    "else:\n",
    "    print(\"These are not equal!!\")\n",
    "    print(\"Where is my three??\")\n",
    "# Will still run\n",
    "print(\"This will always run\")"
   ]
  },
  {
   "cell_type": "code",
   "execution_count": 20,
   "id": "425078ff",
   "metadata": {},
   "outputs": [
    {
     "name": "stdout",
     "output_type": "stream",
     "text": [
      "Best class!!\n"
     ]
    }
   ],
   "source": [
    "subject = \"programming\"\n",
    "\n",
    "if subject == \"programming\":\n",
    "    print(\"Best class!!\")\n",
    "else:\n",
    "    print(\"Its still good...\")"
   ]
  },
  {
   "cell_type": "code",
   "execution_count": 21,
   "id": "a0c0cded",
   "metadata": {},
   "outputs": [
    {
     "name": "stdout",
     "output_type": "stream",
     "text": [
      "Its still good...\n"
     ]
    }
   ],
   "source": [
    "subject = \"data vis\"\n",
    "\n",
    "if subject == \"programming\":\n",
    "    print(\"Best class!!\")\n",
    "else:\n",
    "    print(\"Its still good...\")"
   ]
  },
  {
   "cell_type": "code",
   "execution_count": 24,
   "id": "ed9d3f6f",
   "metadata": {},
   "outputs": [
    {
     "name": "stdout",
     "output_type": "stream",
     "text": [
      "Best class!!\n"
     ]
    }
   ],
   "source": [
    "subject = \"programming\"\n",
    "\n",
    "if subject == \"programming\":\n",
    "    print(\"Best class!!\")\n",
    "elif subject == \"data vis\":\n",
    "    print(\"Don't tell David I said that\")\n",
    "elif subject == \"programming\":\n",
    "    print(\"Python is fun!\")\n",
    "else:\n",
    "    print(\"Its still good...\")"
   ]
  },
  {
   "cell_type": "code",
   "execution_count": 25,
   "id": "6df9829b",
   "metadata": {},
   "outputs": [
    {
     "name": "stdout",
     "output_type": "stream",
     "text": [
      "Best class!!\n",
      "Python is fun!\n"
     ]
    }
   ],
   "source": [
    "subject = \"programming\"\n",
    "\n",
    "if subject == \"programming\":\n",
    "    print(\"Best class!!\")\n",
    "if subject == \"data vis\":\n",
    "    print(\"Don't tell David I said that\")\n",
    "if subject == \"programming\":\n",
    "    print(\"Python is fun!\")\n",
    "else:\n",
    "    print(\"Its still good...\")"
   ]
  },
  {
   "cell_type": "code",
   "execution_count": 26,
   "id": "0744b694",
   "metadata": {},
   "outputs": [
    {
     "name": "stdout",
     "output_type": "stream",
     "text": [
      "Don't tell David I said that\n",
      "Its still good...\n"
     ]
    }
   ],
   "source": [
    "subject = \"data vis\"\n",
    "\n",
    "if subject == \"programming\":\n",
    "    print(\"Best class!!\")\n",
    "if subject == \"data vis\":\n",
    "    print(\"Don't tell David I said that\")\n",
    "if subject == \"programming\":\n",
    "    print(\"Python is fun!\")\n",
    "else:\n",
    "    print(\"Its still good...\")"
   ]
  },
  {
   "cell_type": "code",
   "execution_count": null,
   "id": "2652045a",
   "metadata": {},
   "outputs": [],
   "source": []
  }
 ],
 "metadata": {
  "kernelspec": {
   "display_name": "Python 3 (ipykernel)",
   "language": "python",
   "name": "python3"
  },
  "language_info": {
   "codemirror_mode": {
    "name": "ipython",
    "version": 3
   },
   "file_extension": ".py",
   "mimetype": "text/x-python",
   "name": "python",
   "nbconvert_exporter": "python",
   "pygments_lexer": "ipython3",
   "version": "3.11.5"
  }
 },
 "nbformat": 4,
 "nbformat_minor": 5
}
